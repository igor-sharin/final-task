{
 "cells": [
  {
   "cell_type": "code",
   "execution_count": null,
   "id": "3436d3d7",
   "metadata": {},
   "outputs": [],
   "source": [
    "import pandas as pd\n",
    "import numpy as np\n",
    "import copy\n",
    "import seaborn as sns\n",
    "import matplotlib.pyplot as plt\n",
    "from scipy import stats\n",
    "from sklearn import preprocessing\n",
    "from sklearn.model_selection import train_test_split\n",
    "from sklearn.metrics import mean_squared_error, r2_score\n",
    "from sklearn.preprocessing import MinMaxScaler\n",
    "from sklearn.neighbors import KNeighborsRegressor\n",
    "from sklearn.linear_model import LinearRegression, LogisticRegression\n",
    "from sklearn.ensemble import RandomForestRegressor\n",
    "from sklearn.metrics import r2_score\n",
    "from sklearn.preprocessing import LabelEncoder\n",
    "from sklearn.neural_network import MLPRegressor\n",
    "import tensorflow as tf\n",
    "from tensorflow import keras\n",
    "from tensorflow.keras import layers\n",
    "from sklearn.model_selection import GridSearchCV\n",
    "from sklearn.linear_model import Ridge\n",
    "from sklearn.linear_model import Lasso\n",
    "from sklearn import metrics\n",
    "from sklearn.metrics import mean_absolute_error\n"
   ]
  },
  {
   "cell_type": "code",
   "execution_count": null,
   "id": "1fa7cd74",
   "metadata": {},
   "outputs": [],
   "source": [
    "#Загрузка данных\n",
    "\n",
    "xbp_dataFrame = pd.read_excel('data/X_bp.xlsx', index_col = 0)\n",
    "xnup_dataFrame = pd.read_excel('data/X_nup.xlsx', index_col = 0)\n",
    "xbp_dataFrame.shape\n",
    "xnup_dataFrame.shape\n",
    "xbp_dataFrame.head()\n",
    "xnup_dataFrame.head()"
   ]
  },
  {
   "cell_type": "code",
   "execution_count": null,
   "id": "b5b674d3",
   "metadata": {},
   "outputs": [],
   "source": [
    "#Объединение файлов X_bp.xlsx и X_nup.xslx по индексу, тип объединения INNER\n",
    "\n",
    "join_dataFrame = xbp_dataFrame.join(xnup_dataFrame, how = 'inner')\n",
    "join_dataFrame.shape\n",
    "join_dataFrame.head()\n",
    "pd.DataFrame(join_dataFrame.columns, columns=['характиристики композиционных материалов в join_dataFrame'])\n"
   ]
  },
  {
   "cell_type": "code",
   "execution_count": null,
   "id": "c5844eb1",
   "metadata": {},
   "outputs": [],
   "source": [
    "#Гистограммы\n",
    "\n",
    "from matplotlib.colorbar import colorbar_factory\n",
    "def histodraw(join_dataFrame, variables, n_rows, n_cols):\n",
    "    fig = plt.figure(figsize=(15, 10))\n",
    "    for i, var_name in enumerate(variables):\n",
    "        ax = fig.add_subplot(n_rows,n_cols, i+1)\n",
    "        sns.histplot(data = join_dataFrame, x = var_name, kde = True,\n",
    "bins = 30, color = 'red')\n",
    "    fig.tight_layout()\n",
    "    plt.show()\n",
    "    \n",
    "histodraw(join_dataFrame, join_dataFrame.columns, 4, 4)"
   ]
  },
  {
   "cell_type": "code",
   "execution_count": null,
   "id": "b235aa15",
   "metadata": {},
   "outputs": [],
   "source": [
    "#Диаграмма \"Ящик с усами\" до удаления выбросов\n",
    "\n",
    "n = 1 # счетчик\n",
    "s = 3 # строки\n",
    "c = 5 # столбцы\n",
    "fig = plt.figure(figsize=(17, 32))\n",
    "for i in join_dataFrame.columns:\n",
    "    plt.subplot(s, c, n)\n",
    "    plt.xlabel(i)\n",
    "    sns.boxplot(y = join_dataFrame[i])\n",
    "    n = n + 1\n",
    "plt.show()"
   ]
  },
  {
   "cell_type": "code",
   "execution_count": null,
   "id": "f2408fe9",
   "metadata": {},
   "outputs": [],
   "source": [
    "#Визуализация данных с помощью корреляционной матрицы до удаления выбросов\n",
    "\n",
    "cor_map = join_dataFrame.corr()\n",
    "fig, ax = plt.subplots(figsize = (14, 10))\n",
    "sns.heatmap(cor_map, vmin = -0.5, vmax = 0.5, annot = True,\n",
    "fmt = '.2f',cmap = 'PRGn', ax = ax, linewidths = 0.1)\n",
    "plt.show()\n",
    "#Корреляции между переменными на тепловой карте визуально не выявлено"
   ]
  },
  {
   "cell_type": "code",
   "execution_count": null,
   "id": "a2b459b0",
   "metadata": {},
   "outputs": [],
   "source": [
    "#Сравнение двух методов удаления выбросов: 3-х сигм или межквартильных расстояний\n",
    "sgm = 0\n",
    "iqd= 0\n",
    "for column in join_dataFrame:\n",
    "    d = join_dataFrame.loc[:, [column]]\n",
    "    # методом 3-х сигм\n",
    "    zscore = (join_dataFrame[column] - join_dataFrame[column].mean()) / join_dataFrame[column].std()\n",
    "    d['3s'] = zscore.abs() > 3\n",
    "    sgm += d['3s'].sum()\n",
    "    \n",
    "    # методом межквартильных расстояний\n",
    "    q1 = np.quantile(join_dataFrame[column], 0.25)\n",
    "    q3 = np.quantile(join_dataFrame[column], 0.75)\n",
    "    iqr = q3 - q1\n",
    "    lower = q1 - 1.5 * iqr\n",
    "    upper = q3 + 1.5 * iqr\n",
    "    d['iq'] = (join_dataFrame[column] <= lower) | (join_dataFrame[column] >= upper)\n",
    "    iqd+= d['iq'].sum()\n",
    "print( sgm,'-- выброс методом 3-х сигм',)\n",
    "print( iqd,'-- выброс методом межквартильных расстояний',)"
   ]
  },
  {
   "cell_type": "code",
   "execution_count": null,
   "id": "42cd055c",
   "metadata": {},
   "outputs": [],
   "source": [
    "#Распределение выбросов по характеристикам\n",
    "temp_dataFrame = join_dataFrame.copy()\n",
    "for i in join_dataFrame.columns:\n",
    "    print(f\"_______________________________________\")\n",
    "    temp_dataFrame[i] = abs((join_dataFrame[i] - join_dataFrame[i].mean()) / join_dataFrame[i].std())\n",
    "    print(f\"{sum(temp_dataFrame[i] > 3)} -> выбросов в признаке:'{i}'\")\n",
    "print(f' Всего - {sum(sum(temp_dataFrame.values > 3))} выброса')"
   ]
  },
  {
   "cell_type": "code",
   "execution_count": null,
   "id": "3bca8c67",
   "metadata": {},
   "outputs": [],
   "source": [
    "#Угол нашивки\" закодируем с помощью LabelEncoder\n",
    "\n",
    "le = LabelEncoder()\n",
    "join_dataFrame['Угол нашивки, град'] = le.fit_transform(join_dataFrame['Угол нашивки, град'])\n",
    "\n",
    "#Удаление выбросов\n",
    "join_dataFrame_drop = join_dataFrame[(np.abs(stats.zscore(join_dataFrame)) <=3).all(axis=1)]\n",
    "join_dataFrame_drop"
   ]
  },
  {
   "cell_type": "code",
   "execution_count": null,
   "id": "fdc5d49d",
   "metadata": {},
   "outputs": [],
   "source": [
    "#\"Ящик с усами\" после удаления выбросов\n",
    "n = 1 # счетчик\n",
    "s = 3 # строки\n",
    "c = 5 # столбцы\n",
    "fig = plt.figure(figsize=(17, 32))\n",
    "for i in join_dataFrame_drop.columns:\n",
    "    plt.subplot(s, c, n)\n",
    "    plt.xlabel(i)\n",
    "    sns.boxplot(y = join_dataFrame_drop[i])\n",
    "    n = n + 1\n",
    "plt.show()"
   ]
  },
  {
   "cell_type": "code",
   "execution_count": null,
   "id": "eec36f6b",
   "metadata": {},
   "outputs": [],
   "source": [
    "#Корреляционная матрицы после удаления выбросов\n",
    "cor_map = join_dataFrame_drop.corr()\n",
    "fig, ax = plt.subplots(figsize = (14, 10))\n",
    "sns.heatmap(cor_map, vmin = -0.5, vmax = 0.5, annot = True,\n",
    "fmt = '.2f',cmap = 'PRGn', ax = ax, linewidths = 0.1)\n",
    "plt.xticks(rotation = 45, ha = 'right')\n",
    "plt.show()\n",
    "\n",
    "#Корреляции между переменными на тепловой карте визуально не выявлена"
   ]
  },
  {
   "cell_type": "code",
   "execution_count": null,
   "id": "5cfa4e4d",
   "metadata": {},
   "outputs": [],
   "source": [
    "#Оценка плотности ядра\n",
    "fig, ax = plt.subplots(figsize = (15, 12))\n",
    "join_dataFrame_drop.plot(kind = 'kde', ax = ax)\n",
    "\n",
    "#Данные находятся в разных диапазонах. Оценка плотности ядра показывает, что данные необходимо нормализовать\n",
    "scaler = preprocessing.MinMaxScaler()\n",
    "names = join_dataFrame_drop.columns\n",
    "d = scaler.fit_transform(join_dataFrame_drop)\n",
    "join_dataFrame_drop_norm = pd.DataFrame(d, columns = names).round(2)\n",
    "join_dataFrame_drop_norm.head()\n",
    "#Описательная статистика характеристик после нормализации\n",
    "join_dataFrame_drop_norm.describe().T.round(2)\n",
    "join_dataFrame_drop_norm.info()"
   ]
  },
  {
   "cell_type": "code",
   "execution_count": null,
   "id": "93c2b5c8",
   "metadata": {},
   "outputs": [],
   "source": [
    "#Оценка ящика с усами после нормализации\n",
    "min_max_scaler = preprocessing.MinMaxScaler()\n",
    "df_join_clean_norm = pd.DataFrame(min_max_scaler.fit_transform(join_dataFrame_drop), columns = join_dataFrame_drop.columns, index = join_dataFrame_drop.index)\n",
    "sns.set(rc = {'figure.figsize':(13,10)})\n",
    "ax = sns.boxplot(data = join_dataFrame_drop_norm)\n",
    "ax.set_xticklabels(ax.get_xticklabels(), rotation = 90);"
   ]
  },
  {
   "cell_type": "code",
   "execution_count": null,
   "id": "a6bc0cea",
   "metadata": {},
   "outputs": [],
   "source": [
    "#Корреляционная матрица после нормализации данных\n",
    "cor_map = join_dataFrame_drop_norm.corr()\n",
    "fig, ax = plt.subplots(figsize = (14, 10))\n",
    "sns.heatmap(cor_map, vmin = -0.5, vmax = 0.5, annot = True, square = True,\n",
    "fmt = '.2f',cmap = 'PRGn', ax = ax, linewidths = 0.1)\n",
    "plt.xticks(rotation = 45, ha = 'right')\n",
    "plt.show()"
   ]
  },
  {
   "cell_type": "code",
   "execution_count": null,
   "id": "45a0a394",
   "metadata": {},
   "outputs": [],
   "source": [
    "#Модели для прогноза модуля упругости при растяжении и прочности при растяжении.\n",
    "#Входы и выходы для моделей\n",
    "output_df_elastic = join_dataFrame_drop_norm['Модуль упругости при растяжении, ГПа']\n",
    "output_df_strength = join_dataFrame_drop_norm['Прочность при растяжении, МПа']\n",
    "input_df_elastic = join_dataFrame_drop_norm.loc[:,join_dataFrame_drop_norm.columns != 'Модуль упругости при растяжении, ГПа']\n",
    "input_df_strength = join_dataFrame_drop_norm.loc[:,join_dataFrame_drop_norm.columns != 'Прочность при растяжении, МПа']"
   ]
  },
  {
   "cell_type": "code",
   "execution_count": null,
   "id": "27446a85",
   "metadata": {},
   "outputs": [],
   "source": [
    "#Разделяем датасет на обучающую и тестовую выборки\n",
    "X_input_elastic, X_output_elastic, y_input_elastic, y_output_elastic = train_test_split(input_df_elastic, output_df_elastic, test_size = 0.3, random_state = 42)\n",
    "X_input_strength, X_output_strength, y_input_strength, y_output_strength = train_test_split(input_df_strength, output_df_strength, test_size = 0.3, random_state = 42)\n",
    "join_dataFrame_drop_norm.shape[0] - X_input_elastic.shape[0] - X_output_elastic.shape[0]\n",
    "join_dataFrame_drop_norm.shape[0] - X_input_strength.shape[0] - X_output_strength.shape[0]"
   ]
  },
  {
   "cell_type": "code",
   "execution_count": null,
   "id": "a1116e14",
   "metadata": {},
   "outputs": [],
   "source": [
    "#Итоговый датасет ошибок\n",
    "errors_df = pd.DataFrame(columns=['target_var','model_name','MSE','R2'])\n",
    "\n",
    "#Определение функции для визуализации\n",
    "def actual_and_predicted_plot(orig, predict, var, model_name):\n",
    "    plt.figure(figsize=(17,5))\n",
    "    plt.title(f'Тестовые и прогнозные значения: {model_name}')\n",
    "    plt.plot(orig, label='Тест')\n",
    "    plt.plot(predict, label='Прогноз')\n",
    "    plt.legend(loc='best')\n",
    "    plt.ylabel(var)\n",
    "    plt.xlabel('Количество наблюдений')\n",
    "    plt.show()"
   ]
  },
  {
   "cell_type": "code",
   "execution_count": null,
   "id": "660031e1",
   "metadata": {},
   "outputs": [],
   "source": [
    "#Линейная регрессия\n",
    "#модуль упругости при растяжении\n",
    "linear_model_elastic = LinearRegression()\n",
    "linear_model_elastic.fit(X_input_elastic, y_input_elastic)\n",
    "prediction_y_test_linear_1 = linear_model_elastic.predict(X_output_elastic)\n",
    "MSE_elastic = mean_squared_error(y_output_elastic, prediction_y_test_linear_1)\n",
    "R2_elastic = r2_score(y_output_elastic, prediction_y_test_linear_1)\n",
    "\n",
    "# прочность при растяжении\n",
    "linear_model_pro = LinearRegression()\n",
    "linear_model_pro.fit(X_input_strength, y_input_strength)\n",
    "prediction_y_test_linear_2 = linear_model_pro.predict(X_output_strength)\n",
    "MSE_strength = mean_squared_error(y_output_strength, prediction_y_test_linear_2)\n",
    "R2_strength = r2_score(y_output_strength, prediction_y_test_linear_2)\n",
    "linear_errors = pd.DataFrame({'model_name':'Linear Regression','target_var':['Модуль упругости при растяжении, ГПа', 'Прочность при растяжении, МПа'],'MSE':[MSE_elastic, MSE_strength],'R2':[R2_elastic, R2_strength]})\n",
    "errors_df = pd.concat([errors_df, linear_errors], ignore_index=True)\n",
    "errors_df"
   ]
  },
  {
   "cell_type": "code",
   "execution_count": null,
   "id": "f1d4c97a",
   "metadata": {},
   "outputs": [],
   "source": [
    "#Визуализация\n",
    "actual_and_predicted_plot(y_output_elastic.values, prediction_y_test_linear_1, 'Модуль упругости при растяжении, ГПа', 'Linear Regression')\n",
    "actual_and_predicted_plot(y_output_strength.values, prediction_y_test_linear_2, 'Прочность при растяжении, МПа', 'Linear Regression')"
   ]
  },
  {
   "cell_type": "code",
   "execution_count": null,
   "id": "d549b1c7",
   "metadata": {},
   "outputs": [],
   "source": [
    "#Регрессия k-ближайших соседей\n",
    "knr_model = KNeighborsRegressor()\n",
    "neigh_params = {'n_neighbors' : range(1, 101, 1), 'weights' : ['uniform', 'distance'], 'algorithm' : ['auto', 'ball_tree', 'kd_tree', 'brute']}\n",
    "GSCV_neigh_1 = GridSearchCV(knr_model, neigh_params, n_jobs = -1, cv = 10)\n",
    "GSCV_neigh_1.fit(X_input_elastic, y_input_elastic)\n",
    "\n",
    "# GSCV_neigh_1.best_params_\n",
    "neigh_1 = GSCV_neigh_1.best_estimator_\n",
    "MSE_upr = mean_squared_error(y_output_elastic, neigh_1.predict(X_output_elastic))\n",
    "R2_upr = r2_score(y_output_elastic, neigh_1.predict(X_output_elastic))\n",
    "GSCV_neigh_2 = GridSearchCV(knr_model, neigh_params, n_jobs = -1, cv = 10)\n",
    "GSCV_neigh_2.fit(X_input_strength, y_input_strength)\n",
    "\n",
    "# GSCV_neigh_2.best_params_\n",
    "neigh_2 = GSCV_neigh_2.best_estimator_\n",
    "MSE_pro = mean_squared_error(y_output_strength, neigh_2.predict(X_output_strength))\n",
    "R2_pro = r2_score(y_output_strength, neigh_2.predict(X_output_strength))\n",
    "neigh_errors = pd.DataFrame({'model_name':'KNeighborsRegressor','target_var':['Модуль упругости при растяжении, ГПа', 'Прочность при растяжении, МПа'],'MSE':[MSE_upr, MSE_pro],'R2':[R2_upr, R2_pro]})\n",
    "errors_df = pd.concat([errors_df, neigh_errors], ignore_index=True)\n",
    "errors_df"
   ]
  },
  {
   "cell_type": "code",
   "execution_count": null,
   "id": "26a43abd",
   "metadata": {},
   "outputs": [],
   "source": [
    "#Визуализация\n",
    "actual_and_predicted_plot(y_output_elastic.values, neigh_1.predict(X_output_elastic), 'Модуль упругости при растяжении, ГПа', 'KNeighbors Regressor')\n",
    "actual_and_predicted_plot(y_output_strength.values, neigh_2.predict(X_output_strength), 'Прочность при растяжении, МПа', 'KNeighbors Regressor')"
   ]
  },
  {
   "cell_type": "code",
   "execution_count": null,
   "id": "77906989",
   "metadata": {},
   "outputs": [],
   "source": [
    "#Случайный лес\n",
    "rfr_model = RandomForestRegressor(random_state=14)\n",
    "rfr_model_params = {'n_estimators' : range(1, 100, 5), 'max_features': ['sqrt', 'log2'], 'max_depth' : range(1, 5, 1), 'criterion':['squared_error']} \n",
    "GSCV_rfr_model_upr = GridSearchCV(rfr_model, rfr_model_params, cv=5,verbose=2)\n",
    "GSCV_rfr_model_upr.fit(X_input_elastic, y_input_elastic)\n",
    "\n",
    "# GSCV_rfr_model_upr.best_params_\n",
    "rfr_model_upr = GSCV_rfr_model_upr.best_estimator_\n",
    "MSE_upr = mean_squared_error(y_output_elastic,rfr_model_upr.predict(X_output_elastic))\n",
    "R2_upr = r2_score(y_output_elastic,rfr_model_upr.predict(X_output_elastic))\n",
    "GSCV_rfr_model_pro = GridSearchCV(rfr_model, rfr_model_params, cv=5,verbose=2)\n",
    "GSCV_rfr_model_pro.fit(X_input_strength, y_input_strength)\n",
    "\n",
    "# GSCV_rfr_model_pro.best_params_\n",
    "rfr_model_pro = GSCV_rfr_model_upr.best_estimator_\n",
    "MSE_pro = mean_squared_error(y_output_strength,rfr_model_upr.predict(X_output_strength))\n",
    "R2_pro = r2_score(y_output_strength,rfr_model_upr.predict(X_output_strength))\n",
    "rf_errors = pd.DataFrame({'model_name':'RandomForestRegressor','target_var':['Модуль упругости при растяжении, ГПа', 'Прочность при растяжении, МПа'],'MSE':[MSE_upr, MSE_pro],'R2':[R2_upr, R2_pro]})\n",
    "errors_df = pd.concat([errors_df, rf_errors], ignore_index=True)\n",
    "errors_df"
   ]
  },
  {
   "cell_type": "code",
   "execution_count": null,
   "id": "d89be839",
   "metadata": {},
   "outputs": [],
   "source": [
    "#Визуализация\n",
    "actual_and_predicted_plot(y_output_elastic.values,rfr_model_upr.predict(X_output_elastic), 'Модуль упругости при растяжении, ГПа', 'RandomForestRegressor')\n",
    "actual_and_predicted_plot(y_output_strength.values, rfr_model_pro.predict(X_output_strength), 'Прочность при растяжении, МПа', 'RandomForestRegressor')"
   ]
  },
  {
   "cell_type": "code",
   "execution_count": null,
   "id": "279635dc",
   "metadata": {},
   "outputs": [],
   "source": [
    "#Многослойный перцептрон\n",
    "mlpr_model = MLPRegressor(random_state=14)\n",
    "mlpr_model_params = { \n",
    "    'hidden_layer_sizes' : [(100, 100, 50, 25, 12), (144, 144, 72, 36, 12, 1), (12, 12, 12, 12, 12), (144, 144, 144, 72, 72, 36, 36), ()],\n",
    "    'activation' : ['identity', 'logistic', 'tanh', 'relu'],\n",
    "    'solver' : ['sgd', 'adam'],\n",
    "    'max_iter' : [100],\n",
    "    'learning_rate' : ['constant', 'adaptive', 'invscaling']\n",
    "}\n",
    "\n",
    "GSCV_mlpr_model_upr = GridSearchCV(mlpr_model, mlpr_model_params, n_jobs=-1, cv=10)\n",
    "GSCV_mlpr_model_upr.fit(X_input_elastic, y_input_elastic)\n",
    "\n",
    "# GSCV_mlpr_model_upr.best_params_\n",
    "mlpr_model_upr = GSCV_mlpr_model_upr.best_estimator_\n",
    "MSE_upr = mean_squared_error(y_output_elastic, mlpr_model_upr.predict(X_output_elastic))\n",
    "R2_upr = r2_score(y_output_elastic, mlpr_model_upr.predict(X_output_elastic))\n",
    "GSCV_mlpr_model_pro = GridSearchCV(mlpr_model, mlpr_model_params, n_jobs=-1, cv=10)\n",
    "GSCV_mlpr_model_pro.fit(X_input_strength, y_input_strength)\n",
    "\n",
    "# GSCV_mlpr_model_pro.best_params_\n",
    "mlpr_model_pro = GSCV_mlpr_model_pro.best_estimator_\n",
    "MSE_pro = mean_squared_error(y_output_strength, mlpr_model_pro.predict(X_output_strength))\n",
    "R2_pro = r2_score(y_output_strength, mlpr_model_pro.predict(X_output_strength))\n",
    "mlpr_model_errors = pd.DataFrame({'model_name':'MLPRegressor','target_var':['Модуль упругости при растяжении, ГПа', 'Прочность при растяжении, МПа'], 'MSE':[MSE_upr, MSE_pro], 'R2':[R2_upr, R2_pro]})\n",
    "errors_df = pd.concat([errors_df, mlpr_model_errors], ignore_index=True)\n",
    "errors_df\n",
    "\n",
    "#Параметры модели по сетке\n",
    "GSCV_mlpr_model_upr.best_params_\n",
    "GSCV_mlpr_model_pro.best_params_\n",
    "mlpr_model_upr.predict(X_output_elastic)"
   ]
  },
  {
   "cell_type": "code",
   "execution_count": null,
   "id": "5966b142",
   "metadata": {},
   "outputs": [],
   "source": [
    "#Визуализация\n",
    "actual_and_predicted_plot(y_output_elastic.values, mlpr_model_upr.predict(X_output_elastic), 'Модуль упругости при растяжении, ГПа', 'MLPRegressor')\n",
    "actual_and_predicted_plot(y_output_strength.values, mlpr_model_pro.predict(X_output_strength), 'Прочность при растяжении, МПа', 'MLPRegressor')"
   ]
  },
  {
   "cell_type": "code",
   "execution_count": null,
   "id": "3f6c8e5b",
   "metadata": {},
   "outputs": [],
   "source": [
    "#Лассо регрессия\n",
    "lasso_model = Lasso(random_state = 14)\n",
    "lasso_model_params = {\n",
    "    'alpha': np.linspace(0, 1, 100)\n",
    "} \n",
    "GSCV_lasso_model_upr = GridSearchCV(lasso_model, lasso_model_params,cv = 10, verbose = 2)\n",
    "GSCV_lasso_model_upr.fit(X_input_elastic, y_input_elastic)\n",
    "\n",
    "# GSCV_lasso_model_upr.best_params_\n",
    "lasso_model_upr = GSCV_lasso_model_upr.best_estimator_\n",
    "MSE_upr = mean_squared_error(y_output_elastic, lasso_model_upr.predict(X_output_elastic))\n",
    "R2_upr = r2_score(y_output_elastic, lasso_model_upr.predict(X_output_elastic))\n",
    "GSCV_lasso_model_pro = GridSearchCV(lasso_model, lasso_model_params, cv = 10, verbose = 2)\n",
    "GSCV_lasso_model_pro.fit(X_input_strength, y_input_strength)\n",
    "\n",
    "# GSCV_lasso_model_pro.best_params_\n",
    "lasso_model_pro = GSCV_lasso_model_pro.best_estimator_\n",
    "MSE_pro = mean_squared_error(y_output_strength, lasso_model_pro.predict(X_output_strength))\n",
    "R2_pro = r2_score(y_output_strength, lasso_model_pro.predict(X_output_strength))\n",
    "lasso_model_errors = pd.DataFrame({'model_name':'lasso_model','target_var':['Модуль упругости при растяжении, ГПа', 'Прочность при растяжении, МПа'], 'MSE':[MSE_upr, MSE_pro], 'R2':[R2_upr, R2_pro]})\n",
    "errors_df = pd.concat([errors_df, lasso_model_errors],\n",
    "ignore_index = True)\n",
    "errors_df"
   ]
  },
  {
   "cell_type": "code",
   "execution_count": null,
   "id": "b5819ffe",
   "metadata": {},
   "outputs": [],
   "source": [
    "#Визуализация\n",
    "actual_and_predicted_plot(y_output_elastic.values, lasso_model_upr.predict(X_output_elastic), 'Модуль упругости при растяжении, ГПа', 'lasso_model')\n",
    "actual_and_predicted_plot(y_output_strength.values, lasso_model_pro.predict(X_output_strength), 'Прочность при растяжении, МПа', 'lasso_model')\n",
    "\n",
    "#Датасет с ошибками\n",
    "errors_df"
   ]
  },
  {
   "cell_type": "code",
   "execution_count": null,
   "id": "dc7a7d11",
   "metadata": {},
   "outputs": [],
   "source": [
    "#Рекомендательная нейросеть для соотношения матрица-наполнитель\n",
    "df_bp = pd.read_excel('data/X_bp.xlsx')\n",
    "df_nup = pd.read_excel('data/X_nup.xlsx')\n",
    "\n",
    "df = df_bp.merge(df_nup, on='Unnamed: 0', how='inner')\n",
    "df.drop(columns=['Unnamed: 0'], inplace=True)\n",
    "\n",
    "Q1 = df.quantile(0.25)\n",
    "Q3 = df.quantile(0.75)\n",
    "IQR = Q3-Q1\n",
    "\n",
    "df_drop = df[~((df<(Q1-1.5*IQR))|(df>(Q3+1.5*IQR))).any(axis=1)]\n",
    "\n",
    "#Сформируем входы и выходы для моделей, разделим обучающую и тестовую\n",
    "target_var = df_drop['Соотношение матрица-наполнитель']\n",
    "train_vars = df_drop.loc[:, df_drop.columns != 'Соотношение матрица-наполнитель']\n",
    "x_train, x_test, y_train, y_test = train_test_split(train_vars,target_var, test_size = 0.3, random_state = 42)\n",
    "\n",
    "#Нормализация\n",
    "x_train_norm = tf.keras.layers.Normalization(axis=-1)\n",
    "x_train_norm.adapt(np.array(x_train))\n",
    "\n",
    "#Cлои и конфиг нейросети\n",
    "model = tf.keras.Sequential([\n",
    "    x_train_norm, \n",
    "    layers.Dense(128, activation='relu'), \n",
    "    layers.Dense(128, activation='relu'), \n",
    "    layers.Dense(128, activation='relu'),\n",
    "    layers.Dense(64, activation='relu'), \n",
    "    layers.Dense(32, activation='relu'),\n",
    "    layers.Dense(16, activation='relu'),\n",
    "    layers.Dense(1)\n",
    "])\n",
    "\n",
    "model.compile(optimizer = tf.keras.optimizers.Adam(0.001), loss = 'mean_squared_error')\n",
    "model.summary()\n",
    "model_hist = model.fit(x_train, y_train, epochs = 100, verbose = 1, validation_split = 0.2)\n",
    "\n",
    "#Потери\n",
    "model_hist.history\n",
    "\n",
    "#Визуализация потерь на тренировочной и тестовой модели\n",
    "def model_loss_plot(model_hist):\n",
    "    plt.figure(figsize=(17,5))\n",
    "    plt.plot(model_hist.history['loss'])\n",
    "    plt.plot(model_hist.history['val_loss'])\n",
    "    plt.title('График потерь')\n",
    "    plt.ylabel('MSE')\n",
    "    plt.xlabel('Эпоха')\n",
    "    plt.legend(['loss', 'val_loss'], loc='best')\n",
    "    plt.show()\n",
    "model_loss_plot(model_hist)"
   ]
  },
  {
   "cell_type": "code",
   "execution_count": null,
   "id": "69338308",
   "metadata": {
    "scrolled": true
   },
   "outputs": [],
   "source": [
    "#Визуализация\n",
    "actual_and_predicted_plot(y_test.values, model.predict(x_test.values), 'Cоотношение матрица/наполнитель', 'Keras_mlpr_model')\n",
    "\n",
    "#Оценка MSE\n",
    "model.evaluate(x_test, y_test, verbose=1)\n",
    "\n",
    "#Датасет с ошибками модели\n",
    "MSE = mean_squared_error(y_test, model.predict(x_test.values))\n",
    "R2 = r2_score(y_test, model.predict(x_test.values))\n",
    "keras_mlpr_model_errors = pd.DataFrame({'model_name':'Keras_mlpr_model', 'target_var':['Соотношение матрица/наполнитель'], 'MSE':[MSE], 'R2':[R2]})\n",
    "errors_df = pd.concat([errors_df, keras_mlpr_model_errors], ignore_index=True)\n",
    "errors_df"
   ]
  }
 ],
 "metadata": {
  "kernelspec": {
   "display_name": "Python 3 (ipykernel)",
   "language": "python",
   "name": "python3"
  },
  "language_info": {
   "codemirror_mode": {
    "name": "ipython",
    "version": 3
   },
   "file_extension": ".py",
   "mimetype": "text/x-python",
   "name": "python",
   "nbconvert_exporter": "python",
   "pygments_lexer": "ipython3",
   "version": "3.10.8"
  }
 },
 "nbformat": 4,
 "nbformat_minor": 5
}
